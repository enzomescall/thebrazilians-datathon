{
 "cells": [
  {
   "cell_type": "code",
   "execution_count": 46,
   "id": "1388d4be",
   "metadata": {},
   "outputs": [],
   "source": [
    "import pandas as pd\n",
    "import numpy as np\n",
    "from sklearn.model_selection import train_test_split"
   ]
  },
  {
   "cell_type": "code",
   "execution_count": 47,
   "id": "36b6f1d8",
   "metadata": {},
   "outputs": [],
   "source": [
    "import matplotlib.pyplot as plt\n",
    "import numpy as np\n",
    "from sklearn.linear_model import LogisticRegression\n",
    "from sklearn.metrics import classification_report, confusion_matrix"
   ]
  },
  {
   "cell_type": "code",
   "execution_count": 48,
   "id": "1cb56d21",
   "metadata": {},
   "outputs": [],
   "source": [
    "import os\n",
    "path = os.getcwd()"
   ]
  },
  {
   "cell_type": "code",
   "execution_count": 49,
   "id": "decfe355",
   "metadata": {},
   "outputs": [],
   "source": [
    "df = pd.read_csv('./US/nmurx_us_19Q1.csv')\n",
    "\n",
    "train, test = train_test_split(df, test_size=0.2)"
   ]
  },
  {
   "cell_type": "code",
   "execution_count": 50,
   "id": "77598be5",
   "metadata": {},
   "outputs": [],
   "source": [
    "can_use = train['CAN_USE'].values.reshape(-1,1)\n",
    "illicit_use = train['ILLXCAN_USE'].values\n"
   ]
  },
  {
   "cell_type": "code",
   "execution_count": 51,
   "id": "5060a7d8",
   "metadata": {},
   "outputs": [
    {
     "data": {
      "text/plain": [
       "array([0, 1], dtype=int64)"
      ]
     },
     "execution_count": 51,
     "metadata": {},
     "output_type": "execute_result"
    }
   ],
   "source": [
    "model = LogisticRegression(solver='liblinear',C=10.0, random_state=0)\n",
    "model.fit(can_use, illicit_use)\n",
    "model.classes_"
   ]
  },
  {
   "cell_type": "code",
   "execution_count": 52,
   "id": "f43fc7d1",
   "metadata": {},
   "outputs": [
    {
     "data": {
      "text/plain": [
       "array([[3.05783085]])"
      ]
     },
     "execution_count": 52,
     "metadata": {},
     "output_type": "execute_result"
    }
   ],
   "source": [
    "model.intercept_\n",
    "model.coef_"
   ]
  },
  {
   "cell_type": "code",
   "execution_count": 53,
   "id": "b60b44ed",
   "metadata": {},
   "outputs": [
    {
     "data": {
      "text/plain": [
       "array([0, 0, 0, ..., 0, 0, 0], dtype=int64)"
      ]
     },
     "execution_count": 53,
     "metadata": {},
     "output_type": "execute_result"
    }
   ],
   "source": [
    "model.predict(can_use)"
   ]
  },
  {
   "cell_type": "code",
   "execution_count": 54,
   "id": "e38630db",
   "metadata": {},
   "outputs": [
    {
     "data": {
      "text/plain": [
       "array([[0.97069927, 0.02930073],\n",
       "       [0.60887207, 0.39112793],\n",
       "       [0.60887207, 0.39112793],\n",
       "       ...,\n",
       "       [0.60887207, 0.39112793],\n",
       "       [0.60887207, 0.39112793],\n",
       "       [0.60887207, 0.39112793]])"
      ]
     },
     "execution_count": 54,
     "metadata": {},
     "output_type": "execute_result"
    }
   ],
   "source": [
    "model.predict_proba(can_use)"
   ]
  },
  {
   "cell_type": "code",
   "execution_count": 55,
   "id": "4364f263",
   "metadata": {},
   "outputs": [
    {
     "data": {
      "text/plain": [
       "0.8138756381287137"
      ]
     },
     "execution_count": 55,
     "metadata": {},
     "output_type": "execute_result"
    }
   ],
   "source": [
    "model.score(can_use, illicit_use)"
   ]
  },
  {
   "cell_type": "code",
   "execution_count": 56,
   "id": "d1d9187e",
   "metadata": {},
   "outputs": [],
   "source": [
    "can_use_test = test['CAN_USE'].values.reshape(-1,1)\n",
    "illicit_use_test = test['ILLXCAN_USE'].values"
   ]
  },
  {
   "cell_type": "code",
   "execution_count": 57,
   "id": "02aa81e8",
   "metadata": {},
   "outputs": [
    {
     "data": {
      "text/plain": [
       "0.8105439330543933"
      ]
     },
     "execution_count": 57,
     "metadata": {},
     "output_type": "execute_result"
    }
   ],
   "source": [
    "model.score(can_use_test, illicit_use_test)"
   ]
  },
  {
   "cell_type": "code",
   "execution_count": 58,
   "id": "e675ad94",
   "metadata": {},
   "outputs": [
    {
     "name": "stdout",
     "output_type": "stream",
     "text": [
      "              precision    recall  f1-score   support\n",
      "\n",
      "           0       0.81      1.00      0.90      4843\n",
      "           1       0.00      0.00      0.00      1132\n",
      "\n",
      "    accuracy                           0.81      5975\n",
      "   macro avg       0.41      0.50      0.45      5975\n",
      "weighted avg       0.66      0.81      0.73      5975\n",
      "\n"
     ]
    },
    {
     "name": "stderr",
     "output_type": "stream",
     "text": [
      "C:\\Users\\chave\\anaconda3\\lib\\site-packages\\sklearn\\metrics\\_classification.py:1245: UndefinedMetricWarning: Precision and F-score are ill-defined and being set to 0.0 in labels with no predicted samples. Use `zero_division` parameter to control this behavior.\n",
      "  _warn_prf(average, modifier, msg_start, len(result))\n",
      "C:\\Users\\chave\\anaconda3\\lib\\site-packages\\sklearn\\metrics\\_classification.py:1245: UndefinedMetricWarning: Precision and F-score are ill-defined and being set to 0.0 in labels with no predicted samples. Use `zero_division` parameter to control this behavior.\n",
      "  _warn_prf(average, modifier, msg_start, len(result))\n",
      "C:\\Users\\chave\\anaconda3\\lib\\site-packages\\sklearn\\metrics\\_classification.py:1245: UndefinedMetricWarning: Precision and F-score are ill-defined and being set to 0.0 in labels with no predicted samples. Use `zero_division` parameter to control this behavior.\n",
      "  _warn_prf(average, modifier, msg_start, len(result))\n"
     ]
    }
   ],
   "source": [
    "print(classification_report(illicit_use_test, model.predict(can_use_test)))"
   ]
  },
  {
   "cell_type": "code",
   "execution_count": 59,
   "id": "67eb6f94",
   "metadata": {},
   "outputs": [
    {
     "data": {
      "image/png": "[encoded data removed]",
      "text/plain": [
       "<Figure size 576x576 with 1 Axes>"
      ]
     },
     "metadata": {
      "needs_background": "light"
     },
     "output_type": "display_data"
    }
   ],
   "source": [
    "cm = confusion_matrix(illicit_use, model.predict(can_use))\n",
    "\n",
    "fig, ax = plt.subplots(figsize=(8, 8))\n",
    "ax.imshow(cm)\n",
    "ax.grid(False)\n",
    "ax.xaxis.set(ticks=(0, 1), ticklabels=('Predicted 0s', 'Predicted 1s'))\n",
    "ax.yaxis.set(ticks=(0, 1), ticklabels=('Actual 0s', 'Actual 1s'))\n",
    "ax.set_ylim(1.5, -0.5)\n",
    "for i in range(2):\n",
    "    for j in range(2):\n",
    "        ax.text(j, i, cm[i, j], ha='center', va='center', color='red')\n",
    "plt.show()"
   ]
  }
 ],
 "metadata": {
  "kernelspec": {
   "display_name": "Python 3",
   "language": "python",
   "name": "python3"
  },
  "language_info": {
   "codemirror_mode": {
    "name": "ipython",
    "version": 3
   },
   "file_extension": ".py",
   "mimetype": "text/x-python",
   "name": "python",
   "nbconvert_exporter": "python",
   "pygments_lexer": "ipython3",
   "version": "3.8.8"
  }
 },
 "nbformat": 4,
 "nbformat_minor": 5
}
